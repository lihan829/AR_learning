{
 "cells": [
  {
   "cell_type": "code",
   "execution_count": 4,
   "metadata": {},
   "outputs": [],
   "source": [
    "import glob\n",
    "import os\n",
    "import pandas as pd\n",
    "import numpy as np\n",
    "\n"
   ]
  },
  {
   "cell_type": "code",
   "execution_count": 10,
   "metadata": {},
   "outputs": [
    {
     "name": "stderr",
     "output_type": "stream",
     "text": [
      "<>:6: SyntaxWarning: invalid escape sequence '\\$'\n",
      "<>:6: SyntaxWarning: invalid escape sequence '\\$'\n",
      "/var/folders/c3/0ybdb4d90yj9mz0ss6l6m2540000gn/T/ipykernel_56791/4289197887.py:6: SyntaxWarning: invalid escape sequence '\\$'\n",
      "  reduced_words = hausa[~hausa['Form'].str.contains('\\\\d|,|`|\\'|\\$|\\ \\(|\\)',regex=True)].drop_duplicates(subset = 'Form')\n",
      "/var/folders/c3/0ybdb4d90yj9mz0ss6l6m2540000gn/T/ipykernel_56791/4289197887.py:1: DtypeWarning: Columns (29) have mixed types. Specify dtype option on import or set low_memory=False.\n",
      "  df = pd.read_csv ('forms.csv')          #\n"
     ]
    }
   ],
   "source": [
    "df = pd.read_csv ('forms.csv')          # \n",
    "hausa = df[(df.Language_ID == 4)]\n",
    "hausa = (hausa.loc[(hausa['BorrowedScore'] == 0) & (hausa['Analyzability'] == \"unanalyzable\")])\n",
    "cplx_onset = ['ts','gw','ƙw','ƙy','sh','kw']\n",
    "coda = 'r̃mnrl'\n",
    "reduced_words = hausa[~hausa['Form'].str.contains('\\\\d|,|`|\\'|\\$|\\ \\(|\\)',regex=True)].drop_duplicates(subset = 'Form')\n",
    "reduced_words.index = np.arange(len(reduced_words))\n",
    "len(reduced_words)\n",
    "#reduced_words = reduced_words[~reduced_words['Form'].str.contains ('|'.join(cplx_onset))]\n",
    "words = reduced_words['Form']\n",
    "words.to_csv('hausa.txt', header=False,index=False)"
   ]
  },
  {
   "cell_type": "code",
   "execution_count": 12,
   "metadata": {},
   "outputs": [
    {
     "name": "stderr",
     "output_type": "stream",
     "text": [
      "<>:6: SyntaxWarning: invalid escape sequence '\\$'\n",
      "<>:6: SyntaxWarning: invalid escape sequence '\\$'\n",
      "/var/folders/c3/0ybdb4d90yj9mz0ss6l6m2540000gn/T/ipykernel_56791/4114689674.py:6: SyntaxWarning: invalid escape sequence '\\$'\n",
      "  reduced_words = kanuri[~kanuri['Form'].str.contains('\\\\d|,|`|\\'|\\$|\\ \\(|\\)',regex=True)].drop_duplicates(subset = 'Form')\n",
      "/var/folders/c3/0ybdb4d90yj9mz0ss6l6m2540000gn/T/ipykernel_56791/4114689674.py:1: DtypeWarning: Columns (29) have mixed types. Specify dtype option on import or set low_memory=False.\n",
      "  df = pd.read_csv ('forms.csv')          #\n"
     ]
    }
   ],
   "source": [
    "df = pd.read_csv ('forms.csv')          # \n",
    "kanuri = df[(df.Language_ID == 5)]\n",
    "kanuri = (kanuri.loc[(kanuri['BorrowedScore'] == 0) & (kanuri['Analyzability'] == \"unanalyzable\")])\n",
    "cplx_onset = ['ts','gw','ƙw','ƙy','sh','kw']\n",
    "coda = 'r̃mnrl'\n",
    "reduced_words = kanuri[~kanuri['Form'].str.contains('\\\\d|,|`|\\'|\\$|\\ \\(|\\)',regex=True)].drop_duplicates(subset = 'Form')\n",
    "reduced_words.index = np.arange(len(reduced_words))\n",
    "len(reduced_words)\n",
    "#reduced_words = reduced_words[~reduced_words['Form'].str.contains ('|'.join(cplx_onset))]\n",
    "words = reduced_words['Form']\n",
    "words.to_csv('kanuri.txt', header=False,index=False)"
   ]
  },
  {
   "cell_type": "code",
   "execution_count": null,
   "metadata": {},
   "outputs": [],
   "source": []
  }
 ],
 "metadata": {
  "kernelspec": {
   "display_name": "Python 3",
   "language": "python",
   "name": "python3"
  },
  "language_info": {
   "codemirror_mode": {
    "name": "ipython",
    "version": 3
   },
   "file_extension": ".py",
   "mimetype": "text/x-python",
   "name": "python",
   "nbconvert_exporter": "python",
   "pygments_lexer": "ipython3",
   "version": "3.12.2"
  },
  "orig_nbformat": 4
 },
 "nbformat": 4,
 "nbformat_minor": 2
}
