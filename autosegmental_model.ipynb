{
 "cells": [
  {
   "cell_type": "code",
   "execution_count": 288,
   "metadata": {},
   "outputs": [
    {
     "name": "stderr",
     "output_type": "stream",
     "text": [
      "/var/folders/s_/frmpdrds50v8kvsf17kwk1180000gn/T/ipykernel_41144/904658155.py:9: DtypeWarning: Columns (29) have mixed types. Specify dtype option on import or set low_memory=False.\n",
      "  df = pd.read_csv ('forms.csv')          #\n"
     ]
    }
   ],
   "source": [
    "import glob\n",
    "import os\n",
    "import pandas as pd\n",
    "import seaborn as sns\n",
    "import re\n",
    "import numpy as np\n",
    "\n",
    "df = pd.read_csv ('forms.csv')          # \n",
    "hausa = df[(df.Language_ID == 4)]\n"
   ]
  },
  {
   "cell_type": "code",
   "execution_count": 294,
   "metadata": {},
   "outputs": [
    {
     "data": {
      "text/plain": [
       "665"
      ]
     },
     "execution_count": 294,
     "metadata": {},
     "output_type": "execute_result"
    }
   ],
   "source": [
    "hausa = (hausa.loc[(hausa['BorrowedScore'] == 0) & (hausa['Analyzability'] == \"unanalyzable\")])\n",
    "cplx_onset = ['ts','gw','ƙw','ƙy','sh','kw']\n",
    "coda = 'r̃mnrl'\n",
    "reduced_words = hausa[~hausa['Form'].str.contains('\\\\d|,|`|\\'|\\$|\\ \\(|\\)',regex=True)].drop_duplicates(subset = 'Form')\n",
    "reduced_words.index = np.arange(len(reduced_words))\n",
    "len(reduced_words)\n",
    "#reduced_words"
   ]
  },
  {
   "cell_type": "code",
   "execution_count": 296,
   "metadata": {},
   "outputs": [],
   "source": [
    "reduced_words = reduced_words[~reduced_words['Form'].str.contains ('|'.join(cplx_onset))]\n",
    "words = reduced_words['Form']\n"
   ]
  },
  {
   "cell_type": "code",
   "execution_count": 309,
   "metadata": {},
   "outputs": [
    {
     "name": "stdout",
     "output_type": "stream",
     "text": [
      "káakásàsâ HHLF HLF [(1, 1), (1, 2), (2, 3), (3, 4)]\n"
     ]
    }
   ],
   "source": [
    "h_tone = \"áéíóú\"\n",
    "l_tone = \"àèìòù\"\n",
    "f_tone = \"âêîôû\"\n",
    "long_vowel = 'aeiou'\n",
    "v = h_tone + l_tone + f_tone\n",
    "\n",
    "class Autorep:   \n",
    "    def __init__(self, word):\n",
    "        self.word = word\n",
    "        self.tone = ''\n",
    "        self.mldy = ''\n",
    "        self.assoc = []\n",
    "        \n",
    "        # Initialize tone outside the loop to accumulate tones\n",
    "        tone = ''\n",
    "        for i,seg in enumerate(word):\n",
    "            #if seg in h_tone and word[i+1] in long_vowel:\n",
    "            #    tone += \"H:\"\n",
    "            #elif seg in l_tone and word[i+1] in long_vowel:\n",
    "            #    tone += \"L:\"\n",
    "            if seg in f_tone:\n",
    "                tone += \"F\"\n",
    "            elif seg in h_tone:\n",
    "                tone += \"H\" \n",
    "            elif seg in l_tone:\n",
    "                tone += \"L\"      \n",
    "        self.tone = tone \n",
    "        self.mldy = re.sub(r\"(.)\\1+\", r\"\\1\", tone)\n",
    "          \n",
    "        if len(self.tone) == len(self.mldy):\n",
    "            for i in range(len(self.mldy)):\n",
    "                if self.tone[i] == self.mldy[i]:\n",
    "                    self.assoc.append((i+1, i+1))\n",
    "\n",
    "        elif len(self.tone) != len(self.mldy):\n",
    "            j = 0\n",
    "            for i in range(len(self.mldy)):\n",
    "                while j < len(self.tone): \n",
    "                    if self.mldy[i] == self.tone[j]:\n",
    "                        self.assoc.append((i+1,j+1))\n",
    "                        j += 1\n",
    "                    elif self.mldy[i] != self.tone[j]:\n",
    "                        break\n",
    "        print(self.word, self.tone, self.mldy, self.assoc)\n",
    "\n",
    "example_word = \"káakásàsâ\"\n",
    "auto_rep = Autorep(example_word)\n"
   ]
  },
  {
   "cell_type": "code",
   "execution_count": null,
   "metadata": {},
   "outputs": [],
   "source": []
  },
  {
   "cell_type": "markdown",
   "metadata": {},
   "source": [
    "Some questions:\n",
    "- Is mora tier needed in the representation (i.e. does length difference matter)   \n",
    "  - heavy syllables\n",
    "  - complex onset vs codas\n",
    "- How to handle F -> HL\n"
   ]
  },
  {
   "cell_type": "code",
   "execution_count": null,
   "metadata": {},
   "outputs": [],
   "source": []
  }
 ],
 "metadata": {
  "kernelspec": {
   "display_name": "Python 3",
   "language": "python",
   "name": "python3"
  },
  "language_info": {
   "codemirror_mode": {
    "name": "ipython",
    "version": 3
   },
   "file_extension": ".py",
   "mimetype": "text/x-python",
   "name": "python",
   "nbconvert_exporter": "python",
   "pygments_lexer": "ipython3",
   "version": "3.10.9"
  },
  "orig_nbformat": 4
 },
 "nbformat": 4,
 "nbformat_minor": 2
}
