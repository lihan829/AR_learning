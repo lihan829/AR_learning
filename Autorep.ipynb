{
 "cells": [
  {
   "cell_type": "code",
   "execution_count": 549,
   "metadata": {},
   "outputs": [],
   "source": [
    "import re\n",
    "h_tone = \"áéíóú\"\n",
    "l_tone = \"àèìòù\"\n",
    "f_tone = \"âêîôû\"\n",
    "\n",
    "class Autorep:   \n",
    "    def __init__(self, word):\n",
    "        self.word = word\n",
    "        self.tone = ''\n",
    "        self.mel = ''\n",
    "        self.assoc = []\n",
    "        pos = 0\n",
    "\n",
    "        for i,seg in enumerate(word):\n",
    "            if seg in f_tone:\n",
    "                self.tone += \"F\"\n",
    "            elif seg in h_tone:\n",
    "                self.tone += \"H\" \n",
    "            elif seg in l_tone:\n",
    "                self.tone += \"L\"   \n",
    "\n",
    "        self.mel = self.tone \n",
    "        \n",
    "        # if the tone sequence contains 'F', convert 'F' into 'HL'\n",
    "\n",
    "        contour_count = 0 \n",
    "        for i in range(len(self.tone)):\n",
    "            self.assoc.append((i+1,i+1)) \n",
    "            if self.tone[i] == 'F':\n",
    "                k,v = self.assoc[i]\n",
    "                self.mel = self.mel.replace('F','HL')\n",
    "                self.assoc.insert(2*i+1,(i+contour_count,i+1))\n",
    "\n",
    "\n",
    "        for i in range(1,len(self.mel)):\n",
    "            j,k = self.assoc[i]\n",
    "            p,q = self.assoc[i-1]\n",
    "            if self.mel[i] == self.mel[i-1]:\n",
    "                for j in range(i, len(self.assoc)):\n",
    "                    self.assoc[j] = (self.assoc[i-1][0], self.assoc[j][1])\n",
    "            else:\n",
    "                j = p + 1\n",
    "                self.assoc[i] = (j,k)\n",
    "        \n",
    "        self.mel = re.sub(r\"(.)\\1+\", r\"\\1\", self.mel)\n",
    "           \n",
    "        print (self.word, self.tone, self.mel, self.assoc) \n",
    "\n",
    "    def _tone_pos(self,check_tone):\n",
    "            check_tone = check_tone.upper()\n",
    "            if check_tone not in set(self.mel):\n",
    "                return False\n",
    "            else:   \n",
    "                return [1+ i for i, j in enumerate(self.mel) if j == check_tone]      \n",
    "    \n",
    "    def spreading_count(self,check_tone):\n",
    "        for i in self._tone_pos(check_tone):\n",
    "            spreading = 0\n",
    "            for j in self.assoc:\n",
    "                if j[0] == i:\n",
    "                    spreading += 1 \n",
    "            print(check_tone,i,\"spread length\",spreading)\n",
    "\n",
    "    def __eq__(self, other):\n",
    "        return self.mel == other.mel and self.assoc == other.assoc  \n"
   ]
  },
  {
   "cell_type": "code",
   "execution_count": 551,
   "metadata": {},
   "outputs": [
    {
     "name": "stdout",
     "output_type": "stream",
     "text": [
      "ââ FF HLHL [(1, 1), (2, 1), (3, 2), (4, 2)]\n",
      "ààââ LLFF LHLHL [(1, 1), (1, 2), (2, 3), (3, 3), (4, 4), (5, 4)]\n",
      "mámàmámààà HLHLLL HLHL [(1, 1), (2, 2), (3, 3), (4, 4), (4, 5), (4, 6)]\n",
      "màmámá LHH LH [(1, 1), (2, 2), (2, 3)]\n",
      "màmàmá LLH LH [(1, 1), (1, 2), (2, 3)]\n",
      "kâkâmá FFH HLHLH [(1, 1), (2, 1), (3, 2), (4, 2), (5, 3)]\n",
      "kâmà FL HL [(1, 1), (2, 1), (2, 2)]\n",
      "mákâ HF HL [(1, 1), (1, 2), (2, 2)]\n",
      "màkâ LF LHL [(1, 1), (2, 2), (3, 2)]\n",
      "ààââ LLFF LHLHL [(1, 1), (1, 2), (2, 3), (3, 3), (4, 4), (5, 4)]\n",
      "L 1 spread length 2\n",
      "L 3 spread length 1\n",
      "L 5 spread length 1\n"
     ]
    }
   ],
   "source": [
    "test_tone = ['ââ', 'ààââ','mámàmámààà', 'màmámá', 'màmàmá','kâkâmá', 'kâmà', 'mákâ','màkâ'] # ââ\n",
    "list_of_word = [Autorep(word)for word in test_tone]\n",
    "\n",
    "a = Autorep(\"ààââ\")\n",
    "a.spreading_count('L')"
   ]
  },
  {
   "cell_type": "code",
   "execution_count": null,
   "metadata": {},
   "outputs": [],
   "source": []
  }
 ],
 "metadata": {
  "kernelspec": {
   "display_name": "aligner",
   "language": "python",
   "name": "python3"
  },
  "language_info": {
   "codemirror_mode": {
    "name": "ipython",
    "version": 3
   },
   "file_extension": ".py",
   "mimetype": "text/x-python",
   "name": "python",
   "nbconvert_exporter": "python",
   "pygments_lexer": "ipython3",
   "version": "3.10.9"
  }
 },
 "nbformat": 4,
 "nbformat_minor": 2
}
