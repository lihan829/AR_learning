{
 "cells": [
  {
   "cell_type": "code",
   "execution_count": 344,
   "metadata": {},
   "outputs": [],
   "source": [
    "import re\n",
    "\n",
    "class Autorep:\n",
    "\n",
    "    def __init__(self, word = \"\", mel = '', reduced_mel = \"\", assoc=None):\n",
    "        \"\"\"\n",
    "        Initialize an Autorep object.\n",
    "\n",
    "        Parameters:\n",
    "        - word (str): The word with tone markers. Default is an empty string.\n",
    "        - reduced_mel (str): The OCP-applied tone representation of the word. Default is an empty string.\n",
    "        - assoc (list): A list of tuples (j,k) indicating the association between tone (indexed by j) and syllable (indexed by k) list.\n",
    "        \"\"\"\n",
    "        self.word = word\n",
    "        self.tone = ''\n",
    "        self.mel = ''\n",
    "        self.reduced_mel = reduced_mel\n",
    "        self.assoc = assoc if assoc is not None else []\n",
    "\n",
    "    \n",
    "        h_tone = \"áéíóú\"\n",
    "        l_tone = \"àèìòù\"\n",
    "        f_tone = \"âêîôû\"\n",
    "        r_tone = \"ǎěǐôû\"  \n",
    "    \n",
    "       \n",
    "\n",
    "        if self.reduced_mel:\n",
    "        #check if the provided ar obey OCP -  adjacent identical characters\n",
    "        #e.g the input \"LHHL\" raises error\n",
    "            for i in range(len(self.reduced_mel) - 1):\n",
    "                if self.reduced_mel[i] == self.reduced_mel[i + 1]:\n",
    "                    raise ValueError(\"Input does not obey OCP\")\n",
    "\n",
    "        if self.assoc:\n",
    "        #check if the tone number aligns with what association indicates \n",
    "           tone_number = max([j for j,k in self.assoc if j is not None])\n",
    "           if tone_number != len(self.reduced_mel):\n",
    "                raise ValueError(\"Tone association does not align with tone number\")\n",
    "            \n",
    "          \n",
    "        if not reduced_mel:\n",
    "            self.tone_labels = {'H': h_tone, 'L': l_tone, 'F': f_tone, 'R': r_tone}\n",
    "            self.tone += ''.join(next((k for k, v in self.tone_labels.items() if seg in v), '') for seg in self.word)\n",
    "            self.mel = self.tone \n",
    "        \n",
    "            # if the tone sequence contains 'F', convert 'F' into 'HL'\n",
    "            for i in range(len(self.tone)):\n",
    "                contour_count = 0 \n",
    "                self.assoc.append((i+1,i+1)) \n",
    "                if self.tone[i] == 'F':\n",
    "                    k,v = self.assoc[i]\n",
    "                    self.mel = self.mel.replace('F','HL')\n",
    "                    self.assoc.insert(2*i+1,(i+contour_count,i+1))\n",
    "                elif self.tone[i] == 'R':\n",
    "                    k,v = self.assoc[i]\n",
    "                    self.mel = self.mel.replace('R','LH')\n",
    "                    self.assoc.insert(2*i+1,(i+contour_count,i+1))\n",
    "\n",
    "\n",
    "            for i in range(1,len(self.mel)):\n",
    "                j,k = self.assoc[i]\n",
    "                p,q = self.assoc[i-1]\n",
    "                if self.mel[i] == self.mel[i-1]:\n",
    "                    for j in range(i, len(self.assoc)):\n",
    "                        self.assoc[j] = (self.assoc[i-1][0], self.assoc[j][1])\n",
    "                else:\n",
    "                    j = p + 1\n",
    "                    self.assoc[i] = (j,k)\n",
    "            \n",
    "            self.reduced_mel = re.sub(r\"(.)\\1+\", r\"\\1\", self.mel)\n",
    "           \n",
    "        print (self.word, self.tone, self.reduced_mel, self.assoc) \n",
    "\n",
    "\n",
    "\n",
    "    def _tone_pos(self,check_tone):\n",
    "            check_tone = check_tone.upper()\n",
    "            if check_tone not in set(self.mel):\n",
    "                return False\n",
    "            else:   \n",
    "                return [1+ i for i, j in enumerate(self.mel) if j == check_tone]      \n",
    "    \n",
    "\n",
    "    def _spreading_count(self,check_tone):\n",
    "        for i in self._tone_pos(check_tone):\n",
    "            spreading = 0\n",
    "            for j in self.assoc:\n",
    "                if j[0] == i:\n",
    "                    spreading += 1 \n",
    "            print(check_tone,i,\"spread length\",spreading)\n",
    "            \n",
    "\n",
    "    def check_contain(self, ar):\n",
    "        if not self.check_float() and not ar.check_float():\n",
    "            if len(ar.mel) <= len(self.mel) and ar.mel in self.mel:\n",
    "                j,k = re.search(ar.mel, self.mel).span() # take out the first piece where two ARs match \n",
    "                shared_piece = self.assoc[j:k]\n",
    "                updated_piece = []\n",
    "                for (p,q) in shared_piece:\n",
    "                    p_2 = shared_piece[0][0] - 1 # p2 = 0\n",
    "                    q_2 = shared_piece[0][1] - 1 # q2 = 2\n",
    "                    updated_piece.append((p-p_2, q-q_2)) \n",
    "                if updated_piece == ar.assoc:\n",
    "                    return True\n",
    "                else:\n",
    "                    return False \n",
    "            else:\n",
    "                raise KeyError\n",
    "        else:\n",
    "            print(\"fix later\")\n",
    "    \n",
    "\n",
    "    def add_tone(self):\n",
    "        \"\"\"\n",
    "        Add an unassociated tone in the AR by adding an tone to the melody and an assocation (j,k)\n",
    "        j is one-unit increase of the tone numbers\n",
    "        k is 'None' indicating the syllable is not associated w any tone unit\n",
    "        \"\"\"\n",
    "        new_reduced_mel = self.reduced_mel + self.reduced_mel[-2] # new reduced melody is the current one with a opposte tone appended \n",
    "        # e.g  self.reduced_mel is \"LHL\", new one will be LHLH\n",
    "        new_assoc = self.assoc.copy() \n",
    "        new_assoc.append((len(new_reduced_mel),None))\n",
    "        new_autorep = Autorep(mel = self.mel, reduced_mel = new_reduced_mel, assoc=new_assoc)\n",
    "        return new_autorep\n",
    "\n",
    "    def add_syl(self):\n",
    "        \"\"\"\n",
    "        Add an unassociated syllable in the AR by adding an assocation (j,k)\n",
    "        j is 'None' indicating the syllable is not associated w any tone unit\n",
    "        k is the one-unit increase of current syllable number (the variable max_syllable)\n",
    "        \"\"\"\n",
    "        max_syllable_index = max([k for j,k in self.assoc if k is not None])\n",
    "        new_assoc = self.assoc.copy()  # Create a copy to avoid modifying the original assoc list\n",
    "        new_max_syllable_index = max_syllable_index +1\n",
    "        new_assoc.append((None, new_max_syllable_index))\n",
    "        new_autorep = Autorep(mel = self.mel, reduced_mel = self.reduced_mel, assoc=new_assoc)\n",
    "        return new_autorep\n",
    "    \n",
    "\n",
    "    def float_tone(self):\n",
    "        return ([(_,k) for (_,k) in reversed(self.assoc) if k is None][::-1])\n",
    "    \n",
    "\n",
    "    def float_syl(self):\n",
    "        return [(j,_) for (j,_) in reversed(self.assoc) if j is None][::-1]\n",
    "\n",
    "    \n",
    "    def check_float(self):\n",
    "        return any([self.float_tone(),self.float_syl()])\n",
    "\n",
    "\n",
    "    def float_tone_to_syl(self):\n",
    "        \"\"\"\n",
    "        Associate the first floating tone to the last syllable\n",
    "        e.g LH [(1,1), (2,None)] -> [(1,1), (2,1)]\n",
    "        \"\"\"\n",
    "        if self.float_tone is False:\n",
    "            raise ValueError\n",
    "        else:\n",
    "            last_valid_tuple = max([(j,k) for (j,k)in self.assoc if j is not None and k is not None])\n",
    "            t,s = last_valid_tuple\n",
    "            first_float_tone = min(((j,k) for (j,k)in self.assoc if k is None), default=(float('inf'), None))\n",
    "            k,_ = first_float_tone\n",
    "            first_float_tone_index = self.assoc.index(first_float_tone)\n",
    "            new_assoc = self.assoc[:]\n",
    "            new_assoc[first_float_tone_index] = (k,s)\n",
    "        return new_assoc\n",
    "    \n",
    "\n",
    "    def float_syl_to_tone(self):\n",
    "        if self.float_syl is False:\n",
    "            raise ValueError\n",
    "        else:\n",
    "            last_valid_tuple = max([(j,k) for (j,k)in self.assoc if j is not None and k is not None])\n",
    "            t,s = last_valid_tuple\n",
    "            first_float_syl = min(((j,k) for (j,k)in self.assoc if j is None), default=(float('inf'), None))\n",
    "            _,k = first_float_syl\n",
    "            first_float_syl_index = self.assoc.index(first_float_syl)\n",
    "            new_assoc = self.assoc[:]\n",
    "            new_assoc[first_float_syl_index] = (t,k)\n",
    "        return new_assoc\n",
    "\n",
    "\n",
    "    def flt_syl_flt_tone(self):\n",
    "        float_tone = min(((j, k) for j, k in self.assoc if k is None))\n",
    "        float_syl = min(((j, k) for j, k in self.assoc if j is None))\n",
    "        new_assocline = (float_tone[0], float_syl[1])\n",
    "        position_to_keep = min(self.assoc.index(float_tone),self.assoc.index(float_syl))\n",
    "        position_to_remove = max(self.assoc.index(float_tone),self.assoc.index(float_syl))\n",
    "        new_assoc = self.assoc[:]\n",
    "        new_assoc[position_to_keep] = new_assocline\n",
    "        new_assoc.remove(new_assoc[position_to_remove])\n",
    "        return new_assoc\n",
    "\n",
    "    def add_assoc(self):\n",
    "        if not self.check_float:\n",
    "            raise KeyError         \n",
    "        elif self.float_tone() and self.float_syl():\n",
    "            new_ar = [Autorep(mel=self.mel, reduced_mel=self.reduced_mel, assoc=self.flt_syl_flt_tone()),\n",
    "                      Autorep(mel=self.mel, reduced_mel=self.reduced_mel, assoc=self.float_syl_to_tone()),\n",
    "                      Autorep(mel=self.mel, reduced_mel=self.reduced_mel, assoc=self.float_tone_to_syl())]\n",
    "            return (new_ar)\n",
    "        elif self.float_syl() and not self.float_tone():\n",
    "            new_ar = Autorep(mel=self.mel, reduced_mel=self.reduced_mel, assoc=self.float_syl_to_tone())\n",
    "            return new_ar\n",
    "        else:\n",
    "            new_ar = Autorep(mel=self.mel, reduced_mel=self.reduced_mel, assoc=self.float_tone_to_syl())\n",
    "            return new_ar\n",
    "\n",
    "  \n",
    "                \n",
    "    def show(self):\n",
    "        print (self.word, self.tone, self.reduced_mel, self.assoc) \n",
    "\n",
    "\n",
    "    def __eq__(self, other):\n",
    "        return self.mel == other.mel and self.assoc == other.assoc  \n",
    "    \n",
    "    def next_sup_factor(self):\n",
    "        if not self.check_float():\n",
    "            return self.add_tone(), self.add_syl()\n",
    "        else:\n",
    "            return self.add_tone(), self.add_syl(), self.add_assoc()\n",
    "\n",
    "\n"
   ]
  },
  {
   "cell_type": "markdown",
   "metadata": {},
   "source": [
    "## Test Autorep class by using transcriptions\n",
    "Take two example, _máà_ and _mâ_ "
   ]
  },
  {
   "cell_type": "code",
   "execution_count": 351,
   "metadata": {},
   "outputs": [
    {
     "name": "stdout",
     "output_type": "stream",
     "text": [
      "máâ HF HL [(1, 1), (1, 2), (2, 2)]\n",
      "mà L L [(1, 1)]\n",
      "Check if máâ contains mà: True\n",
      "add one floating syllable to mà L [(1, 1)] and create a new AR:\n",
      "  L [(1, 1), (None, 2)]\n",
      "add one floating tone to máâ HL[(1, 1), (1, 2), (2, 2)]\n",
      "  HLH [(1, 1), (1, 2), (2, 2), (3, None)]\n",
      "keep adding one floating syl \n",
      "  HLH [(1, 1), (1, 2), (2, 2), (3, None), (None, 3)]\n"
     ]
    }
   ],
   "source": [
    "\n",
    "a = Autorep(\"máâ\") # output: HF HL [(1, 1), (1, 2), (2, 2)]\n",
    "b = Autorep(\"mà\") # mà L L [(1, 1)]\n",
    "\n",
    "\n",
    "print('Check if máâ contains mà:', a.check_contain(b)) # Check if máâ contains mà: True\n",
    "\n",
    "\n",
    "print('add one floating syllable to mà L [(1, 1)] and create a new AR:')\n",
    "c = b.add_syl() #  output:   L [(1, 1), (None, 2)]\n",
    "type(c)         # <class '__main__.Autorep'>\n",
    "\n",
    "\n",
    "print('add one floating tone to máâ HL[(1, 1), (1, 2), (2, 2)]')\n",
    "d = a.add_tone() #   HLH [(1, 1), (1, 2), (2, 2), (3, None)]\n",
    "print('keep adding one floating syl ')\n",
    "d = d.add_syl() #   HLH [(1, 1), (1, 2), (2, 2), (3, None), (None, 3)]"
   ]
  },
  {
   "cell_type": "code",
   "execution_count": 363,
   "metadata": {},
   "outputs": [
    {
     "name": "stdout",
     "output_type": "stream",
     "text": [
      "Orginal\n",
      "  HLH [(1, 1), (1, 2), (2, 2), (3, None), (None, 3)]\n",
      "\n",
      " All possible associations between tones and syllables\n",
      "  HLH [(1, 1), (1, 2), (2, 2), (3, 3)]\n",
      "  HLH [(1, 1), (1, 2), (2, 2), (3, None), (2, 3)]\n",
      "  HLH [(1, 1), (1, 2), (2, 2), (3, 2), (None, 3)]\n"
     ]
    }
   ],
   "source": [
    "\n",
    "print(\"Orginal\")\n",
    "d.show()\n",
    "\n",
    "\n",
    "print(\"\\n All possible associations between tones and syllables\")\n",
    "new = d.add_assoc()\n",
    "\n",
    "#([(1, 1), (2, 2), (3, 3)],                 the floating tone and syllable doubly connected\n",
    "# [(1, 1), (2, 2), (3, None), (2, 3)],      the floating syllable connected to the last nonfloating tone, leaving the floating tone unconnected\n",
    "# [(1, 1), (2, 2), (3, 2), (None, 3)])      the floating tone connected to the last nonfloating syllable, leaving the floating syllable unconnected\n"
   ]
  },
  {
   "cell_type": "code",
   "execution_count": 369,
   "metadata": {},
   "outputs": [
    {
     "name": "stdout",
     "output_type": "stream",
     "text": [
      "máâ HF HL [(1, 1), (1, 2), (2, 2)]\n",
      "\n",
      "the next sup factor for máà (no floating units) \n",
      "two options:\n",
      "  HLH [(1, 1), (1, 2), (2, 2), (3, None)]\n",
      "  HL [(1, 1), (1, 2), (2, 2), (None, 3)]\n"
     ]
    },
    {
     "data": {
      "text/plain": [
       "(<__main__.Autorep at 0x1312ebe90>, <__main__.Autorep at 0x1312e8e90>)"
      ]
     },
     "execution_count": 369,
     "metadata": {},
     "output_type": "execute_result"
    }
   ],
   "source": [
    "a = Autorep(\"máâ\")\n",
    "#a.check_float()\n",
    "\n",
    "print(\"\\nthe next sup factor for máà (no floating units) \\ntwo options:\")\n",
    "a.next_sup_factor()"
   ]
  },
  {
   "cell_type": "code",
   "execution_count": 328,
   "metadata": {},
   "outputs": [
    {
     "name": "stdout",
     "output_type": "stream",
     "text": [
      "  HL [(1, 1), (1, 2), (2, 2), (None, 3)]\n",
      "  HLH [(1, 1), (1, 2), (2, 2), (None, 3), (3, None)]\n",
      "  HL [(1, 1), (1, 2), (2, 2), (None, 3), (None, 4)]\n",
      "  HL [(1, 1), (1, 2), (2, 2), (2, 3)]\n"
     ]
    },
    {
     "data": {
      "text/plain": [
       "(<__main__.Autorep at 0x1311c8500>,\n",
       " <__main__.Autorep at 0x1311c8ef0>,\n",
       " <__main__.Autorep at 0x1311c8bc0>)"
      ]
     },
     "execution_count": 328,
     "metadata": {},
     "output_type": "execute_result"
    }
   ],
   "source": [
    "b = Autorep(reduced_mel='HL',assoc = [(1, 1), (1, 2), (2, 2), (None, 3)])\n",
    "#a.check_float()\n",
    "\n",
    "b.next_sup_factor()"
   ]
  },
  {
   "cell_type": "code",
   "execution_count": 339,
   "metadata": {},
   "outputs": [
    {
     "name": "stdout",
     "output_type": "stream",
     "text": [
      "  HLHL [(1, 1), (2, 2), (3, 3), (None, 4), (4, None)]\n",
      "Multiple options for nxt sup fac\n",
      "  HLHLH [(1, 1), (2, 2), (3, 3), (None, 4), (4, None), (5, None)]\n",
      "  HLHL [(1, 1), (2, 2), (3, 3), (None, 4), (4, None), (None, 5)]\n",
      "  HLHL [(1, 1), (2, 2), (3, 3), (4, 4)]\n",
      "  HLHL [(1, 1), (2, 2), (3, 3), (3, 4), (4, None)]\n",
      "  HLHL [(1, 1), (2, 2), (3, 3), (None, 4), (4, 3)]\n"
     ]
    },
    {
     "data": {
      "text/plain": [
       "(<__main__.Autorep at 0x1314195e0>,\n",
       " <__main__.Autorep at 0x131419280>,\n",
       " [<__main__.Autorep at 0x131419a00>,\n",
       "  <__main__.Autorep at 0x131419610>,\n",
       "  <__main__.Autorep at 0x13141b8f0>])"
      ]
     },
     "execution_count": 339,
     "metadata": {},
     "output_type": "execute_result"
    }
   ],
   "source": [
    "c = Autorep(reduced_mel='HLHL',assoc = [(1, 1), (2, 2), (3, 3), (None, 4), (4, None)])\n",
    "\n",
    "print('Multiple options for nxt sup fac fixme')\n",
    "c.next_sup_factor()"
   ]
  },
  {
   "cell_type": "code",
   "execution_count": null,
   "metadata": {},
   "outputs": [],
   "source": []
  }
 ],
 "metadata": {
  "kernelspec": {
   "display_name": "aligner",
   "language": "python",
   "name": "python3"
  },
  "language_info": {
   "codemirror_mode": {
    "name": "ipython",
    "version": 3
   },
   "file_extension": ".py",
   "mimetype": "text/x-python",
   "name": "python",
   "nbconvert_exporter": "python",
   "pygments_lexer": "ipython3",
   "version": "3.12.2"
  }
 },
 "nbformat": 4,
 "nbformat_minor": 2
}
