{
 "cells": [
  {
   "cell_type": "code",
   "execution_count": 1,
   "metadata": {},
   "outputs": [],
   "source": [
    "import glob\n",
    "import os\n",
    "import pandas as pd\n",
    "import seaborn as sns\n",
    "import re\n",
    "import numpy as np\n"
   ]
  },
  {
   "cell_type": "code",
   "execution_count": 4,
   "metadata": {},
   "outputs": [
    {
     "name": "stderr",
     "output_type": "stream",
     "text": [
      "/var/folders/s_/frmpdrds50v8kvsf17kwk1180000gn/T/ipykernel_67818/158436340.py:1: DtypeWarning: Columns (29) have mixed types. Specify dtype option on import or set low_memory=False.\n",
      "  df = pd.read_csv ('forms.csv')          #\n"
     ]
    },
    {
     "data": {
      "text/plain": [
       "665"
      ]
     },
     "execution_count": 4,
     "metadata": {},
     "output_type": "execute_result"
    }
   ],
   "source": [
    "df = pd.read_csv ('forms.csv')          # \n",
    "hausa = df[(df.Language_ID == 4)]\n",
    "hausa = (hausa.loc[(hausa['BorrowedScore'] == 0) & (hausa['Analyzability'] == \"unanalyzable\")])\n",
    "cplx_onset = ['ts','gw','ƙw','ƙy','sh','kw']\n",
    "coda = 'r̃mnrl'\n",
    "reduced_words = hausa[~hausa['Form'].str.contains('\\\\d|,|`|\\'|\\$|\\ \\(|\\)',regex=True)].drop_duplicates(subset = 'Form')\n",
    "reduced_words.index = np.arange(len(reduced_words))\n",
    "len(reduced_words)"
   ]
  },
  {
   "cell_type": "code",
   "execution_count": 5,
   "metadata": {},
   "outputs": [],
   "source": [
    "reduced_words = reduced_words[~reduced_words['Form'].str.contains ('|'.join(cplx_onset))]\n",
    "words = reduced_words['Form']\n",
    "words.to_csv('hausa_words.txt', header=False,index=False)"
   ]
  },
  {
   "cell_type": "code",
   "execution_count": null,
   "metadata": {},
   "outputs": [],
   "source": []
  }
 ],
 "metadata": {
  "kernelspec": {
   "display_name": "Python 3",
   "language": "python",
   "name": "python3"
  },
  "language_info": {
   "codemirror_mode": {
    "name": "ipython",
    "version": 3
   },
   "file_extension": ".py",
   "mimetype": "text/x-python",
   "name": "python",
   "nbconvert_exporter": "python",
   "pygments_lexer": "ipython3",
   "version": "3.10.9"
  },
  "orig_nbformat": 4
 },
 "nbformat": 4,
 "nbformat_minor": 2
}
